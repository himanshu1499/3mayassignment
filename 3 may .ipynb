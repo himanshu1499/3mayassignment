{
 "cells": [
  {
   "cell_type": "code",
   "execution_count": null,
   "id": "fb9090fd-200f-4975-a184-18f3542191d8",
   "metadata": {},
   "outputs": [],
   "source": [
    "#q11"
   ]
  },
  {
   "cell_type": "code",
   "execution_count": null,
   "id": "70d31680-9dfe-4d22-8ec9-a2b58c015c17",
   "metadata": {},
   "outputs": [],
   "source": [
    "Local outlier detection and global outlier detection are two different approaches used in outlier detection. The choice between these approaches depends on the specific characteristics of the data and the context of the application. Here are some real-world applications where each approach may be more appropriate:\n",
    "\n",
    "Local Outlier Detection:\n",
    "\n",
    "Anomaly Detection in Sensor Networks: In sensor networks, each sensor may have its own local behavior, and local outlier detection can help identify anomalies specific to individual sensors.\n",
    "Fraud Detection in Financial Transactions: Local outlier detection can be effective in detecting unusual patterns or fraudulent activities specific to individual customers or accounts.\n",
    "Health Monitoring: Local outlier detection can help identify abnormal health conditions specific to individual patients, considering their personal medical history.\n",
    "Global Outlier Detection:\n",
    "\n",
    "Network Intrusion Detection: Global outlier detection can be useful in identifying unusual patterns across the entire network, such as unexpected spikes in network traffic or unauthorized access attempts.\n",
    "Manufacturing Quality Control: Global outlier detection can be employed to identify defective products or processes that exhibit abnormal behavior across the entire production line.\n",
    "Credit Card Fraud Detection: Global outlier detection can be effective in identifying fraudulent transactions that deviate from the normal patterns observed across all customers."
   ]
  },
  {
   "cell_type": "code",
   "execution_count": null,
   "id": "dbfc526b-82a5-438a-85bf-0009c052f998",
   "metadata": {},
   "outputs": [],
   "source": [
    "from sklearn.neighbors import LocalOutlierFactor\n",
    "from sklearn.ensemble import IsolationForest\n",
    "\n",
    "# Example data for local outlier detection\n",
    "X_local = [[1, 1], [1, 1], [2, 2], [3, 3], [4, 4], [0, 0]]\n",
    "clf_local = LocalOutlierFactor(n_neighbors=2)\n",
    "y_local = clf_local.fit_predict(X_local)\n",
    "print(\"Local Outliers:\", X_local[y_local == -1])\n",
    "\n",
    "# Example data for global outlier detection\n",
    "X_global = [[-1, -1], [0, 0], [1, 1], [2, 2], [3, 3], [4, 4]]\n",
    "clf_global = IsolationForest(contamination=0.25)\n",
    "y_global = clf_global.fit_predict(X_global)\n",
    "print(\"Global Outliers:\", X_global[y_global == -1])\n"
   ]
  },
  {
   "cell_type": "code",
   "execution_count": null,
   "id": "e52a2758-9a76-4dba-83c8-70d3bb6bff56",
   "metadata": {},
   "outputs": [],
   "source": [
    "#q10"
   ]
  },
  {
   "cell_type": "code",
   "execution_count": null,
   "id": "2fead145-9290-4627-aac8-432c7c226ea2",
   "metadata": {},
   "outputs": [],
   "source": [
    "The Isolation Forest algorithm is a popular method for global outlier detection. \n",
    "It works by isolating outliers from the majority of the data points. The basic idea is that outliers are expected to be few in number and have attributes that make them easier to separate from normal observations."
   ]
  },
  {
   "cell_type": "code",
   "execution_count": null,
   "id": "b166a5d7-82a7-4357-b5dd-50595ffb7c9e",
   "metadata": {},
   "outputs": [],
   "source": [
    "from sklearn.ensemble import IsolationForest\n",
    "import numpy as np\n",
    "\n",
    "# Example data\n",
    "X = np.array([[1, 1], [1, 2], [2, 2], [2, 3], [3, 3], [5, 6], [7, 7], [9, 8]])\n",
    "\n",
    "# Create and fit the Isolation Forest model\n",
    "clf = IsolationForest(contamination=0.25)  # Contamination parameter represents the expected proportion of outliers\n",
    "clf.fit(X)\n",
    "\n",
    "# Predict the outlier scores\n",
    "scores = clf.decision_function(X)\n",
    "print(\"Outlier Scores:\")\n",
    "print(scores)\n",
    "\n",
    "# Identify outliers\n",
    "outliers = clf.predict(X)\n",
    "print(\"Detected Outliers:\")\n",
    "print(X[outliers == -1])\n"
   ]
  },
  {
   "cell_type": "code",
   "execution_count": null,
   "id": "1ffed18b-3148-4e40-b103-020354d4e909",
   "metadata": {},
   "outputs": [],
   "source": [
    "In this example, we have a dataset represented by the array X with two features. \n",
    "We create an instance of the Isolation Forest model clf and fit it to the data using the fit method. The contamination parameter is set to 0.25, representing the expected proportion of outliers in the data.\n",
    "\n",
    "After fitting the model, we use the decision_function method to obtain the outlier scores, which indicate the degree of abnormality of each data point. Lower scores indicate a higher likelihood of being an outlier.\n",
    "\n",
    "Finally, we use the predict method to label the data points as outliers (-1) or inliers (1). \n",
    "The outliers are printed using X[outliers == -1].\n",
    "\n",
    "Note that the contamination parameter may need to be adjusted based on the specific characteristics of your dataset and the expected proportion of outliers.\n",
    "Additionally, the Isolation Forest algorithm can also provide an anomaly score for each data point, indicating the strength of the outlier status. This score can be accessed using the clf.score_samples(X) method.\n",
    "\n",
    "Remember to preprocess your data appropriately, handle missing values, and normalize or scale features if necessary before applying the Isolation Forest algorithm for outlier detection.\n"
   ]
  },
  {
   "cell_type": "code",
   "execution_count": null,
   "id": "5810b6f0-7ee3-4a14-9353-ad133e9db6b4",
   "metadata": {},
   "outputs": [],
   "source": [
    "#q9"
   ]
  },
  {
   "cell_type": "code",
   "execution_count": null,
   "id": "50912b8c-f3ae-4450-9f04-b000dbabe5cb",
   "metadata": {},
   "outputs": [],
   "source": [
    "To detect local outliers using the Local Outlier Factor (LOF) algorithm in Python, you can utilize the LocalOutlierFactor class from the scikit-learn library. The LOF algorithm measures the local density deviation of a data point with respect to its neighbors and assigns an anomaly score to each data point.\n",
    "Lower scores indicate a higher likelihood of being a local outlier. "
   ]
  },
  {
   "cell_type": "code",
   "execution_count": null,
   "id": "7b0f04e2-563a-4b83-95cd-c675b4ad3e73",
   "metadata": {},
   "outputs": [],
   "source": [
    "from sklearn.neighbors import LocalOutlierFactor\n",
    "import numpy as np\n",
    "\n",
    "# Example data\n",
    "X = np.array([[1, 1], [1, 2], [2, 2], [2, 3], [3, 3], [5, 6], [7, 7], [9, 8]])\n",
    "\n",
    "# Create and fit the Local Outlier Factor model\n",
    "clf = LocalOutlierFactor(n_neighbors=3)  # n_neighbors is the number of neighbors to consider\n",
    "outlier_scores = clf.fit_predict(X)  # Fit the model and predict outlier labels\n",
    "\n",
    "# Get the anomaly scores and the negative outlier factor\n",
    "anomaly_scores = -clf.negative_outlier_factor_\n",
    "print(\"Anomaly Scores:\")\n",
    "print(anomaly_scores)\n",
    "\n",
    "# Identify local outliers\n",
    "local_outliers = X[outlier_scores == -1]\n",
    "print(\"Detected Local Outliers:\")\n",
    "print(local_outliers)\n"
   ]
  },
  {
   "cell_type": "code",
   "execution_count": null,
   "id": "70b3595b-71dc-41f5-8287-fd67de0d3cdb",
   "metadata": {},
   "outputs": [],
   "source": [
    "After fitting the model and predicting the outlier labels using fit_predict, we obtain the anomaly scores using the negative_outlier_factor_ attribute. \n",
    "The negative outlier factor represents the degree of abnormality of each data point. \n",
    "Higher values indicate a higher likelihood of being a local outlier.\n",
    "\n",
    "Finally, we identify the local outliers by selecting the data points with outlier labels equal to -1 and print them using X[outlier_scores == -1].\n",
    "\n",
    "Remember that the n_neighbors parameter should be chosen carefully based on your data and the local structure you expect.\n",
    "It determines the neighborhood size used to calculate the local density deviation.\n",
    "You may need to experiment with different values to achieve optimal results for your specific dataset and application.\n"
   ]
  },
  {
   "cell_type": "code",
   "execution_count": null,
   "id": "90fe8720-cd69-4524-bd55-44837def1f33",
   "metadata": {},
   "outputs": [],
   "source": [
    "#q8"
   ]
  },
  {
   "cell_type": "code",
   "execution_count": null,
   "id": "7a9c6de3-afe0-4464-aa96-3e162772f246",
   "metadata": {},
   "outputs": [],
   "source": [
    "Local outliers and global outliers are two types of outliers that can be identified in a dataset. The main difference between them lies in the scope or context in which they are considered.\n",
    "\n",
    "1. Local Outliers:\n",
    "   Local outliers, also known as contextual outliers or conditional outliers, are data points that are considered anomalous within a specific local region or context. They deviate significantly from the neighboring data points within a localized area but may not be considered outliers when viewed in the global context of the entire dataset. Local outliers are identified based on their deviation from the local neighborhood or local density of surrounding data points.\n",
    "\n",
    "   For example, consider a dataset of temperature measurements across different cities. A local outlier in this context could be a city that experiences an unexpectedly high temperature compared to its neighboring cities, indicating a localized heatwave. However, when considering the entire dataset, this city's temperature might still fall within a reasonable range.\n",
    "\n",
    "2. Global Outliers:\n",
    "   Global outliers, also known as unconditional outliers or point outliers, are data points that deviate significantly from the overall distribution of the entire dataset. These outliers are observed when considering the entire dataset without taking local context into account. They stand out as extreme values that are unusual compared to the majority of the data points.\n",
    "\n",
    "   For instance, in a dataset of student exam scores, a global outlier could be a student who achieves an exceptionally low or high score compared to the rest of the students, regardless of the performance of their peers.\n",
    "\n",
    "The distinction between local outliers and global outliers is primarily based on the perspective or context in which the outliers are evaluated. Local outliers are identified within a specific local region or neighborhood, taking into account the local characteristics of the data, whereas global outliers are identified by considering the overall distribution of the entire dataset.\n",
    "\n",
    "Both types of outliers can provide valuable insights depending on the analysis goals and context of the dataset. The choice of detecting local or global outliers depends on the specific problem at hand and the desired level of granularity in outlier detection."
   ]
  },
  {
   "cell_type": "code",
   "execution_count": null,
   "id": "d915fd02-1c64-45cf-990b-62218649e7a8",
   "metadata": {},
   "outputs": [],
   "source": [
    "#q7"
   ]
  },
  {
   "cell_type": "code",
   "execution_count": null,
   "id": "ecad97e0-bc6a-400f-9142-464d9460329f",
   "metadata": {},
   "outputs": [],
   "source": [
    "\n",
    "The make_circles function in scikit-learn is used to generate a synthetic dataset of concentric circles. This function is useful for creating a simple binary classification problem where the two classes are not linearly separable. \n",
    "The generated dataset consists of points arranged in concentric circles, with one class inside the other."
   ]
  },
  {
   "cell_type": "code",
   "execution_count": 2,
   "id": "1dd836c5-cde2-438f-95e9-6152a54db7bd",
   "metadata": {},
   "outputs": [
    {
     "data": {
      "image/png": "[encoded data removed]",
      "text/plain": [
       "<Figure size 640x480 with 1 Axes>"
      ]
     },
     "metadata": {},
     "output_type": "display_data"
    }
   ],
   "source": [
    "from sklearn.datasets import make_circles\n",
    "import matplotlib.pyplot as plt\n",
    "\n",
    "# Generate the synthetic dataset\n",
    "X, y = make_circles(n_samples=100, noise=0.1, factor=0.5)\n",
    "\n",
    "# Plot the dataset\n",
    "plt.scatter(X[:, 0], X[:, 1], c=y, cmap='bwr')\n",
    "plt.xlabel('X1')\n",
    "plt.ylabel('X2')\n",
    "plt.title('make_circles Dataset')\n",
    "plt.show()\n"
   ]
  },
  {
   "cell_type": "code",
   "execution_count": null,
   "id": "a02b0e4e-7591-4a8e-8fca-03212b399a20",
   "metadata": {},
   "outputs": [],
   "source": [
    " we import the make_circles function from the sklearn.datasets module. We generate a synthetic dataset by calling make_circles with the following parameters:\n",
    "\n",
    "n_samples: The total number of points in the dataset.\n",
    "noise: The standard deviation of Gaussian noise added to the data.\n",
    "factor: The scaling factor between the inner and outer circles.\n",
    "The function returns two arrays, X and y. \n",
    "The X array contains the coordinates of the data points, and the y array contains the corresponding class labels (0 or 1) indicating which circle each point belongs to.\n",
    "\n",
    "Finally, we visualize the dataset using a scatter plot, where points belonging to different classes are represented by different colors. \n",
    "The resulting plot shows the concentric circles generated by the make_circles function.\n",
    "\n",
    "This synthetic dataset is often used for testing and demonstrating algorithms that can handle nonlinearly separable data or for illustrating concepts related to classification problems.\n"
   ]
  },
  {
   "cell_type": "code",
   "execution_count": null,
   "id": "245cfe67-501d-4d07-bcc2-c630f0f3083c",
   "metadata": {},
   "outputs": [],
   "source": [
    "#q6"
   ]
  },
  {
   "cell_type": "code",
   "execution_count": null,
   "id": "812b84a2-e2b8-46f4-8e93-a3751f72e4d3",
   "metadata": {},
   "outputs": [],
   "source": [
    "DBSCAN (Density-Based Spatial Clustering of Applications with Noise) is primarily designed for clustering, but it can also be used to detect anomalies or outliers in a dataset. DBSCAN detects anomalies based on the density of data points, considering regions with low data density as potential outliers. The key idea is that outliers are often located in regions where the data density is significantly lower than in the rest of the dataset. Here's an explanation of the process and the key parameters involved:\n",
    "\n",
    "Key Parameters in DBSCAN:\n",
    "\n",
    "eps (epsilon): It defines the radius within which neighboring points are considered part of the same neighborhood. Points within this distance are considered core points. A smaller epsilon value leads to tighter clusters but may fail to capture outliers. A larger epsilon value can merge clusters and include more points as outliers.\n",
    "min_samples: It specifies the minimum number of points required to form a dense region. Points with fewer than min_samples neighboring points are considered outliers. A higher min_samples value results in fewer outliers being detected.\n",
    "DBSCAN Process for Anomaly Detection:\n",
    "\n",
    "Step 1: Determine the parameter values of eps and min_samples. These values can be determined by analyzing the dataset and considering the desired sensitivity to outliers.\n",
    "Step 2: Fit the DBSCAN model to the data using these parameter values.\n",
    "Step 3: Identify the resulting clusters and outliers based on the labels assigned by DBSCAN.\n",
    "Points that are not assigned to any cluster are considered outliers.\n",
    "Points assigned to clusters are considered inliers"
   ]
  },
  {
   "cell_type": "code",
   "execution_count": 3,
   "id": "b3c98e22-a7c1-4986-b21b-8e65ba0d63d6",
   "metadata": {},
   "outputs": [
    {
     "name": "stdout",
     "output_type": "stream",
     "text": [
      "Detected Outliers:\n",
      "[[25 25]]\n"
     ]
    }
   ],
   "source": [
    "from sklearn.cluster import DBSCAN\n",
    "import numpy as np\n",
    "\n",
    "# Example data\n",
    "X = np.array([[1, 1], [1, 2], [2, 2], [8, 7], [8, 8], [25, 25]])\n",
    "\n",
    "# Create and fit the DBSCAN model\n",
    "eps = 3.0\n",
    "min_samples = 2\n",
    "clf = DBSCAN(eps=eps, min_samples=min_samples)\n",
    "clf.fit(X)\n",
    "\n",
    "# Identify outliers\n",
    "outliers = X[clf.labels_ == -1]\n",
    "print(\"Detected Outliers:\")\n",
    "print(outliers)\n"
   ]
  },
  {
   "cell_type": "code",
   "execution_count": null,
   "id": "bd018596-972f-4dde-81ca-0f952d004336",
   "metadata": {},
   "outputs": [],
   "source": [
    "#q5"
   ]
  },
  {
   "cell_type": "code",
   "execution_count": null,
   "id": "d7cd2292-c3fb-4408-9c49-fbb98c6d1354",
   "metadata": {},
   "outputs": [],
   "source": [
    "In DBSCAN (Density-Based Spatial Clustering of Applications with Noise), the algorithm categorizes data points into three types: core points, border points, and noise points. These classifications are based on the density of data points in their neighborhood. The distinction between these points is crucial in understanding how DBSCAN relates to anomaly detection. Here's an explanation of each type and its relevance to anomaly detection:\n",
    "\n",
    "1. Core Points:\n",
    "   Core points are data points that have a sufficient number of neighboring points within a specified distance (`eps`). In other words, these points reside in dense regions of the dataset. The minimum number of neighboring points required to classify a point as a core point is determined by the `min_samples` parameter. Core points play a significant role in defining clusters in DBSCAN.\n",
    "\n",
    "   Anomaly detection perspective: Core points are less likely to be anomalies because they reside in dense regions that are representative of the majority of the data. However, there can still be rare cases where a core point itself might be an anomaly if it deviates significantly from the neighboring points.\n",
    "\n",
    "2. Border Points:\n",
    "   Border points are data points that are within the `eps` distance of a core point but do not have enough neighboring points to be considered core points themselves. These points lie on the edge or boundary of clusters and have a lower density compared to core points. Border points are not outliers within the context of their cluster but may have a higher potential for being outliers if they are far from any cluster.\n",
    "\n",
    "   Anomaly detection perspective: Border points can be potential anomalies if they are far from any cluster and have few neighboring points. They have a higher likelihood of being outliers compared to core points, but their outlier status depends on their distance to the nearest cluster.\n",
    "\n",
    "3. Noise Points:\n",
    "   Noise points, also referred to as outliers, are data points that do not belong to any cluster. These points are neither core points nor border points and have insufficient neighboring points within the `eps` distance. Noise points are typically located in sparse regions of the dataset and do not conform to any cluster structure.\n",
    "\n",
    "   Anomaly detection perspective: Noise points are more likely to be anomalies since they do not fit within any cluster and are far from dense regions. They represent unusual or unexpected observations that are different from the majority of the data.\n"
   ]
  },
  {
   "cell_type": "code",
   "execution_count": null,
   "id": "a845baa0-2949-4249-90d5-bc0d4471d684",
   "metadata": {},
   "outputs": [],
   "source": [
    "#q4"
   ]
  },
  {
   "cell_type": "code",
   "execution_count": null,
   "id": "b28a5ddf-86fb-4251-a1a9-136f031e6810",
   "metadata": {},
   "outputs": [],
   "source": [
    "\n",
    "The epsilon parameter in DBSCAN (Density-Based Spatial Clustering of Applications with Noise) plays a crucial role in determining the neighborhood size and, consequently, affects the performance of anomaly detection. \n",
    "The choice of the epsilon value determines the sensitivity of the algorithm to identify clusters and outliers.\n",
    "A smaller epsilon value leads to tighter clusters and potentially identifies fewer outliers, while a larger epsilon value can merge clusters and include more points as outliers."
   ]
  },
  {
   "cell_type": "code",
   "execution_count": 4,
   "id": "d70f6fea-031c-4582-9928-a5ecfa81cc8d",
   "metadata": {},
   "outputs": [
    {
     "name": "stdout",
     "output_type": "stream",
     "text": [
      "Epsilon = 1.0\n",
      "Detected Outliers:\n",
      "[[25 25]]\n",
      "\n",
      "Epsilon = 2.5\n",
      "Detected Outliers:\n",
      "[[25 25]]\n",
      "\n",
      "Epsilon = 5.0\n",
      "Detected Outliers:\n",
      "[[25 25]]\n",
      "\n"
     ]
    }
   ],
   "source": [
    "from sklearn.cluster import DBSCAN\n",
    "import numpy as np\n",
    "\n",
    "# Example data\n",
    "X = np.array([[1, 1], [1, 2], [2, 2], [8, 7], [8, 8], [25, 25]])\n",
    "\n",
    "# Create and fit the DBSCAN models with different epsilon values\n",
    "eps_values = [1.0, 2.5, 5.0]\n",
    "min_samples = 2\n",
    "\n",
    "for eps in eps_values:\n",
    "    clf = DBSCAN(eps=eps, min_samples=min_samples)\n",
    "    clf.fit(X)\n",
    "\n",
    "    # Identify outliers\n",
    "    outliers = X[clf.labels_ == -1]\n",
    "    print(f\"Epsilon = {eps}\")\n",
    "    print(\"Detected Outliers:\")\n",
    "    print(outliers)\n",
    "    print()\n"
   ]
  },
  {
   "cell_type": "code",
   "execution_count": null,
   "id": "876b9c5f-25e9-4eb4-8107-c2ec6c07cb25",
   "metadata": {},
   "outputs": [],
   "source": [
    "#q3"
   ]
  },
  {
   "cell_type": "code",
   "execution_count": null,
   "id": "946970db-474f-4a03-aff0-8b35fdbaebd6",
   "metadata": {},
   "outputs": [],
   "source": [
    "DBSCAN (Density-Based Spatial Clustering of Applications with Noise) is a popular density-based clustering algorithm used to group data points based on their proximity in a dataset. It is particularly useful for discovering clusters of arbitrary shape and handling outliers. Here's an explanation of how DBSCAN works for clustering, along with an example code in Python:\n",
    "\n",
    "Determine the parameters: The main parameters in DBSCAN are epsilon (eps), which defines the radius of the neighborhood, and min_samples, the minimum number of points required to form a dense region or cluster.\n",
    "Identify core points: A core point is a data point that has at least min_samples neighboring points within a distance of epsilon. These core points are considered as the starting points for forming clusters.\n",
    "Expand clusters: Starting from a core point, DBSCAN expands the cluster by connecting neighboring points within the epsilon radius. If a neighboring point is also a core point, its neighbors are explored recursively until no more core points are found.\n",
    "Assign border points: Points that are within the epsilon distance of a cluster but do not have enough neighboring points to be considered core points are assigned as border points. These points may be shared by multiple clusters.\n",
    "Identify outliers: Points that do not belong to any cluster and do not have enough neighboring points within the epsilon radius are considered outliers or noise points."
   ]
  },
  {
   "cell_type": "code",
   "execution_count": 5,
   "id": "9a28dff0-a76a-47dd-bd4c-110145e19562",
   "metadata": {},
   "outputs": [
    {
     "name": "stdout",
     "output_type": "stream",
     "text": [
      "Cluster Labels:\n",
      "[ 0  0  0  1  1 -1]\n",
      "Number of Clusters: 2\n"
     ]
    }
   ],
   "source": [
    "from sklearn.cluster import DBSCAN\n",
    "import numpy as np\n",
    "\n",
    "# Example data\n",
    "X = np.array([[1, 1], [1, 2], [2, 2], [8, 7], [8, 8], [25, 25]])\n",
    "\n",
    "# Create and fit the DBSCAN model\n",
    "eps = 3.0\n",
    "min_samples = 2\n",
    "clf = DBSCAN(eps=eps, min_samples=min_samples)\n",
    "clf.fit(X)\n",
    "\n",
    "# Get the labels assigned to each data point\n",
    "labels = clf.labels_\n",
    "\n",
    "# Get the number of clusters (excluding outliers)\n",
    "n_clusters = len(set(labels)) - (1 if -1 in labels else 0)\n",
    "\n",
    "# Print the cluster labels and number of clusters\n",
    "print(\"Cluster Labels:\")\n",
    "print(labels)\n",
    "print(\"Number of Clusters:\", n_clusters)\n"
   ]
  },
  {
   "cell_type": "code",
   "execution_count": null,
   "id": "304d7f13-c803-4fb4-9d81-d626a5ba7ccc",
   "metadata": {},
   "outputs": [],
   "source": [
    "After fitting the model using the fit method, we obtain the labels assigned to each data point through clf.labels_. The label -1 corresponds to outliers or noise points, while other non-negative labels represent cluster assignments. \n",
    "The number of clusters is determined by counting unique labels, excluding the -1 label if it exists.\n",
    "\n",
    "By running the code, you can observe the cluster labels assigned to each data point and the number of clusters identified by DBSCAN.\n",
    "\n",
    "DBSCAN is a versatile clustering algorithm that can handle complex cluster structures and is relatively insensitive to the order of the data points. \n",
    "However, choosing appropriate parameter values (e.g., epsilon and min_samples) is essential to obtain meaningful clusters.\n"
   ]
  },
  {
   "cell_type": "code",
   "execution_count": null,
   "id": "59129623-5896-4456-a9f6-2bd4decb6316",
   "metadata": {},
   "outputs": [],
   "source": [
    "#q2"
   ]
  },
  {
   "cell_type": "code",
   "execution_count": null,
   "id": "ff31fdac-8b13-4b9a-acdd-12d6cece3008",
   "metadata": {},
   "outputs": [],
   "source": [
    "Confusion Matrix:\n",
    "The confusion matrix provides a tabular summary of the algorithm's performance, showing the counts of true positives, false positives, true negatives, and false negatives.\n",
    "\n",
    "\n",
    "from sklearn.metrics import confusion_matrix\n",
    "\n",
    "# True labels and predicted labels\n",
    "y_true = [0, 1, 0, 1, 1, 0]\n",
    "y_pred = [0, 1, 0, 0, 1, 1]\n",
    "\n",
    "# Compute confusion matrix\n",
    "cm = confusion_matrix(y_true, y_pred)\n",
    "\n",
    "print(\"Confusion Matrix:\")\n",
    "print(cm)\n"
   ]
  },
  {
   "cell_type": "code",
   "execution_count": null,
   "id": "dff56b37-9fb1-4d77-82a3-f574f3d79da5",
   "metadata": {},
   "outputs": [],
   "source": [
    "Precision, Recall, and F1-score:\n",
    "Precision measures the proportion of true positives among all positive predictions. Recall (also known as sensitivity or true positive rate) measures the proportion of true positives that are correctly identified. F1-score is the harmonic mean of precision and recall, providing a balanced measure of the algorithm's performance.\n",
    "\n",
    "\n",
    "from sklearn.metrics import precision_score, recall_score, f1_score\n",
    "\n",
    "# True labels and predicted labels\n",
    "y_true = [0, 1, 0, 1, 1, 0]\n",
    "y_pred = [0, 1, 0, 0, 1, 1]\n",
    "\n",
    "# Compute precision, recall, and F1-score\n",
    "precision = precision_score(y_true, y_pred)\n",
    "recall = recall_score(y_true, y_pred)\n",
    "f1 = f1_score(y_true, y_pred)\n",
    "\n",
    "print(\"Precision:\", precision)\n",
    "print(\"Recall:\", recall)\n",
    "print(\"F1-score:\", f1)\n"
   ]
  },
  {
   "cell_type": "code",
   "execution_count": null,
   "id": "dad40bf2-aaa7-4453-8936-4f2563387e92",
   "metadata": {},
   "outputs": [],
   "source": [
    "Receiver Operating Characteristic (ROC) Curve and Area Under the Curve (AUC):\n",
    "The ROC curve illustrates the trade-off between true positive rate (TPR) and false positive rate (FPR) at various classification thresholds. The AUC score quantifies the overall performance of the algorithm in distinguishing between normal and anomalous instances.\n",
    "\n",
    "\n",
    "from sklearn.metrics import roc_curve, roc_auc_score\n",
    "import matplotlib.pyplot as plt\n",
    "\n",
    "# True labels and anomaly scores (e.g., predicted probabilities)\n",
    "y_true = [0, 1, 0, 1, 1, 0]\n",
    "anomaly_scores = [0.1, 0.9, 0.3, 0.6, 0.7, 0.2]\n",
    "\n",
    "# Compute FPR, TPR, and thresholds\n",
    "fpr, tpr, thresholds = roc_curve(y_true, anomaly_scores)\n",
    "\n",
    "# Compute AUC score\n",
    "auc = roc_auc_score(y_true, anomaly_scores)\n",
    "\n",
    "# Plot the ROC curve\n",
    "plt.plot(fpr, tpr, label='ROC curve (AUC = %0.2f)' % auc)\n",
    "plt.xlabel('False Positive Rate')\n",
    "plt.ylabel('True Positive Rate')\n",
    "plt.title('Receiver Operating Characteristic')\n",
    "plt.legend(loc=\"lower right\")\n",
    "plt.show()\n"
   ]
  },
  {
   "cell_type": "code",
   "execution_count": null,
   "id": "179c6b9a-d286-488b-911d-c65e578604c1",
   "metadata": {},
   "outputs": [],
   "source": [
    "#q1"
   ]
  },
  {
   "cell_type": "code",
   "execution_count": null,
   "id": "eac1954f-f711-420d-9381-e4ba5a96a942",
   "metadata": {},
   "outputs": [],
   "source": [
    "Feature selection plays a crucial role in anomaly detection as it helps to identify the most relevant and informative features that contribute to the detection of anomalies. By selecting appropriate features, we can improve the accuracy and efficiency of anomaly detection algorithms. Here's how feature selection can be performed in Python code:\n",
    "\n",
    "Univariate Feature Selection:\n",
    "Univariate feature selection methods evaluate each feature independently and select the features based on their individual relevance to the target variable. One commonly used method is the chi-square test for categorical features and ANOVA F-test for numerical features. The SelectKBest class from scikit-learn can be used for this purpose."
   ]
  },
  {
   "cell_type": "code",
   "execution_count": 7,
   "id": "3f715fa1-9c52-4be0-a145-60df46ebfa68",
   "metadata": {},
   "outputs": [
    {
     "name": "stdout",
     "output_type": "stream",
     "text": [
      "Selected Features:\n",
      "[3 4]\n"
     ]
    }
   ],
   "source": [
    "from sklearn.feature_selection import SelectKBest, chi2\n",
    "import numpy as np\n",
    "\n",
    "# Example data\n",
    "X = np.array([[1, 2, 3, 4, 5],\n",
    "              [6, 7, 8, 9, 10],\n",
    "              [11, 12, 13, 14, 15]])\n",
    "y = np.array([0, 1, 0])\n",
    "\n",
    "# Perform chi-square test for feature selection\n",
    "selector = SelectKBest(chi2, k=2)\n",
    "X_new = selector.fit_transform(X, y)\n",
    "\n",
    "# Get selected feature indices\n",
    "selected_indices = selector.get_support(indices=True)\n",
    "\n",
    "print(\"Selected Features:\")\n",
    "print(selected_indices)\n"
   ]
  },
  {
   "cell_type": "code",
   "execution_count": null,
   "id": "71fa1ed1-fd39-4c53-9744-0020ea333fb5",
   "metadata": {},
   "outputs": [],
   "source": [
    "2. Recursive Feature Elimination:\n",
    "Recursive Feature Elimination (RFE) recursively removes features and builds a model on the remaining features until a specified number of features is reached.\n",
    "It uses the model's feature importance or coefficient values to determine the least important features. The RFE class from scikit-learn can be used for this purpose."
   ]
  },
  {
   "cell_type": "code",
   "execution_count": 6,
   "id": "18212bd6-bdfd-46a2-9f3b-3af719334ae7",
   "metadata": {},
   "outputs": [
    {
     "name": "stdout",
     "output_type": "stream",
     "text": [
      "Selected Features:\n",
      "[0 4]\n"
     ]
    }
   ],
   "source": [
    "from sklearn.feature_selection import RFE\n",
    "from sklearn.linear_model import LogisticRegression\n",
    "import numpy as np\n",
    "\n",
    "# Example data\n",
    "X = np.array([[1, 2, 3, 4, 5],\n",
    "              [6, 7, 8, 9, 10],\n",
    "              [11, 12, 13, 14, 15]])\n",
    "y = np.array([0, 1, 0])\n",
    "\n",
    "# Create a logistic regression model\n",
    "model = LogisticRegression()\n",
    "\n",
    "# Perform recursive feature elimination\n",
    "rfe = RFE(estimator=model, n_features_to_select=2)\n",
    "X_new = rfe.fit_transform(X, y)\n",
    "\n",
    "# Get selected feature indices\n",
    "selected_indices = rfe.get_support(indices=True)\n",
    "\n",
    "print(\"Selected Features:\")\n",
    "print(selected_indices)\n"
   ]
  },
  {
   "cell_type": "code",
   "execution_count": null,
   "id": "2d9d591e-5475-4a97-8c3d-c9d2a9ea2a66",
   "metadata": {},
   "outputs": [],
   "source": [
    "3. Feature Importance:\n",
    "For certain models (e.g., decision trees or random forests), we can directly obtain the feature importance values. These values indicate the relative importance of each feature in the model's predictive performance. The feature_importances_ attribute of the model can be used to extract feature importance values."
   ]
  },
  {
   "cell_type": "code",
   "execution_count": 8,
   "id": "a35b733c-739a-4675-b0f8-ea6141b6388e",
   "metadata": {},
   "outputs": [
    {
     "name": "stdout",
     "output_type": "stream",
     "text": [
      "Feature Importances:\n",
      "[0.26893939 0.23863636 0.16287879 0.18181818 0.14772727]\n"
     ]
    }
   ],
   "source": [
    "from sklearn.ensemble import RandomForestClassifier\n",
    "import numpy as np\n",
    "\n",
    "# Example data\n",
    "X = np.array([[1, 2, 3, 4, 5],\n",
    "              [6, 7, 8, 9, 10],\n",
    "              [11, 12, 13, 14, 15]])\n",
    "y = np.array([0, 1, 0])\n",
    "\n",
    "# Create a random forest classifier\n",
    "model = RandomForestClassifier()\n",
    "\n",
    "# Fit the model and obtain feature importances\n",
    "model.fit(X, y)\n",
    "importances = model.feature_importances_\n",
    "\n",
    "print(\"Feature Importances:\")\n",
    "print(importances)\n"
   ]
  },
  {
   "cell_type": "code",
   "execution_count": null,
   "id": "06bc1747-3da4-4276-bd8f-f1f4a6d9e244",
   "metadata": {},
   "outputs": [],
   "source": []
  },
  {
   "cell_type": "code",
   "execution_count": null,
   "id": "e3167732-961f-48dc-9190-f70b6da2dc18",
   "metadata": {},
   "outputs": [],
   "source": []
  },
  {
   "cell_type": "code",
   "execution_count": null,
   "id": "4538acab-ac2b-4315-b21a-e793bdbd96e1",
   "metadata": {},
   "outputs": [],
   "source": []
  },
  {
   "cell_type": "code",
   "execution_count": null,
   "id": "8912f03d-199f-486d-9973-a96a0d6c4d29",
   "metadata": {},
   "outputs": [],
   "source": []
  },
  {
   "cell_type": "code",
   "execution_count": null,
   "id": "0eeba9a4-41b6-40c8-b3ba-ab2c674f235d",
   "metadata": {},
   "outputs": [],
   "source": []
  },
  {
   "cell_type": "code",
   "execution_count": null,
   "id": "7f56ac89-1d4d-487d-b059-ad95cfb9631d",
   "metadata": {},
   "outputs": [],
   "source": []
  }
 ],
 "metadata": {
  "kernelspec": {
   "display_name": "Python 3 (ipykernel)",
   "language": "python",
   "name": "python3"
  },
  "language_info": {
   "codemirror_mode": {
    "name": "ipython",
    "version": 3
   },
   "file_extension": ".py",
   "mimetype": "text/x-python",
   "name": "python",
   "nbconvert_exporter": "python",
   "pygments_lexer": "ipython3",
   "version": "3.10.6"
  }
 },
 "nbformat": 4,
 "nbformat_minor": 5
}
